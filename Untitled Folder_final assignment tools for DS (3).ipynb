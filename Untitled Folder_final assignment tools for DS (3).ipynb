{
  "metadata": {
    "language_info": {
      "codemirror_mode": {
        "name": "javascript"
      },
      "file_extension": ".js",
      "mimetype": "text/javascript",
      "name": "javascript",
      "nbconvert_exporter": "javascript",
      "pygments_lexer": "javascript",
      "version": "es2017"
    },
    "kernelspec": {
      "name": "javascript",
      "display_name": "JavaScript",
      "language": "javascript"
    },
    "toc-autonumbering": false,
    "toc-showcode": true,
    "toc-showmarkdowntxt": true
  },
  "nbformat_minor": 4,
  "nbformat": 4,
  "cells": [
    {
      "cell_type": "markdown",
      "source": "# \"My Jupyter Notebook on IBM Watson Studio\" #",
      "metadata": {}
    },
    {
      "cell_type": "markdown",
      "source": "<b> Amrin Khan </b>\n\nCurrently I'm an Undergraduate in Statistics Honours",
      "metadata": {}
    },
    {
      "cell_type": "markdown",
      "source": "*I'm interested in data science because according to me DATA SCIENCE offers a good career with tremendous jobs oppurtunities & will emerge more in the future*",
      "metadata": {}
    },
    {
      "cell_type": "markdown",
      "source": "### The following code is based on simple mathamatical simplification ###",
      "metadata": {}
    },
    {
      "cell_type": "code",
      "source": "A=(9*9)+9",
      "metadata": {
        "trusted": true
      },
      "execution_count": 7,
      "outputs": [
        {
          "execution_count": 7,
          "output_type": "execute_result",
          "data": {
            "text/plain": 90
          },
          "metadata": {}
        }
      ]
    },
    {
      "cell_type": "markdown",
      "source": "## Numbered list of my friends-\n\n1. vickey\n2. Alia\n3. Aryan\n4. Sunaina\n5. Aditi",
      "metadata": {
        "jp-MarkdownHeadingCollapsed": true,
        "tags": []
      }
    },
    {
      "cell_type": "markdown",
      "source": "## Bullet list of fruits I like -\n\n* Mango\n* Apple\n* Watermelon\n* Orange",
      "metadata": {}
    },
    {
      "cell_type": "markdown",
      "source": "## Image of a German Shepherd Dog in Jupyter Notebook\n![](GSD.jpg)",
      "metadata": {}
    },
    {
      "cell_type": "markdown",
      "source": "### That's all Thankyou!",
      "metadata": {}
    },
    {
      "cell_type": "code",
      "source": "",
      "metadata": {},
      "execution_count": null,
      "outputs": []
    }
  ]
}